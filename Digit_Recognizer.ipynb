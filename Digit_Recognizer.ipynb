{
  "nbformat": 4,
  "nbformat_minor": 0,
  "metadata": {
    "colab": {
      "provenance": [],
      "mount_file_id": "1TOWNhme3megzTLemlong7SOdJfY9woY_",
      "authorship_tag": "ABX9TyPyyk4LJYof7xHO/u7C2Hwo",
      "include_colab_link": true
    },
    "kernelspec": {
      "name": "python3",
      "display_name": "Python 3"
    },
    "language_info": {
      "name": "python"
    },
    "accelerator": "GPU",
    "gpuClass": "standard"
  },
  "cells": [
    {
      "cell_type": "markdown",
      "metadata": {
        "id": "view-in-github",
        "colab_type": "text"
      },
      "source": [
        "<a href=\"https://colab.research.google.com/github/Ranjan4Kumar/Digit_Recognization_Using_TF/blob/main/Digit_Recognizer.ipynb\" target=\"_parent\"><img src=\"https://colab.research.google.com/assets/colab-badge.svg\" alt=\"Open In Colab\"/></a>"
      ]
    },
    {
      "cell_type": "code",
      "execution_count": null,
      "metadata": {
        "id": "_9hbsz-1u8OZ"
      },
      "outputs": [],
      "source": []
    },
    {
      "cell_type": "code",
      "source": [
        "from google.colab import drive\n",
        "drive.mount('/content/drive')"
      ],
      "metadata": {
        "colab": {
          "base_uri": "https://localhost:8080/"
        },
        "id": "R5mhkNX52YoN",
        "outputId": "53fafbdb-147b-4bb3-8402-8d8d80fbeff6"
      },
      "execution_count": 1,
      "outputs": [
        {
          "output_type": "stream",
          "name": "stdout",
          "text": [
            "Drive already mounted at /content/drive; to attempt to forcibly remount, call drive.mount(\"/content/drive\", force_remount=True).\n"
          ]
        }
      ]
    },
    {
      "cell_type": "markdown",
      "source": [
        "### Libraries and Settings"
      ],
      "metadata": {
        "id": "9aBur5IlBcQm"
      }
    },
    {
      "cell_type": "code",
      "source": [
        "from io import IncrementalNewlineDecoder\n",
        "import numpy as np\n",
        "import pandas as pd\n",
        "%matplotlib inline\n",
        "import matplotlib.pyplot as plt\n",
        "import matplotlib.cm as cm\n",
        "import tensorflow as tf"
      ],
      "metadata": {
        "id": "iVTDD7zS_FiG"
      },
      "execution_count": 2,
      "outputs": []
    },
    {
      "cell_type": "code",
      "source": [
        "# Setting up \n",
        "learning_rate = 1e-4\n",
        "\n",
        "# set 20000 on local environment to get best accuracy\n",
        "\n",
        "training_iteration = 2500\n",
        "dropout = 0.5\n",
        "batch_size = 50\n",
        "\n",
        "# set to 0 to train on all available data\n",
        "validation_size = 2000\n",
        "\n",
        "# image number to output\n",
        "image_to_display = 10"
      ],
      "metadata": {
        "id": "eeg0QkaIB2b-"
      },
      "execution_count": 3,
      "outputs": []
    },
    {
      "cell_type": "markdown",
      "source": [
        "### Data preparation\n",
        "\n",
        "To start, we read provided data. The train.csv file contains 42000 rows and 785 columns. Each row represents an image of a handwritten digit and a label with the value of this digit"
      ],
      "metadata": {
        "id": "j8VOMs8qIOn3"
      }
    },
    {
      "cell_type": "code",
      "source": [
        "from google.colab import drive\n",
        "drive.mount('/content/drive/')"
      ],
      "metadata": {
        "colab": {
          "base_uri": "https://localhost:8080/"
        },
        "id": "Vve5Y8YaIJ1J",
        "outputId": "04c81ec5-c51c-49a4-ba69-ee7aab7020e9"
      },
      "execution_count": 4,
      "outputs": [
        {
          "output_type": "stream",
          "name": "stdout",
          "text": [
            "Drive already mounted at /content/drive/; to attempt to forcibly remount, call drive.mount(\"/content/drive/\", force_remount=True).\n"
          ]
        }
      ]
    },
    {
      "cell_type": "code",
      "source": [
        "data = pd.read_csv('/content/drive/MyDrive/DS/TensorFlow Deep NN/train 2.csv')\n",
        "print('data({0[0]},{0[1]})'.format(data.shape))\n",
        "data.head()"
      ],
      "metadata": {
        "colab": {
          "base_uri": "https://localhost:8080/",
          "height": 317
        },
        "id": "bzGn8D1dLtXu",
        "outputId": "8db60040-1320-4710-ce6f-b8c556d4398c"
      },
      "execution_count": 5,
      "outputs": [
        {
          "output_type": "stream",
          "name": "stdout",
          "text": [
            "data(42000,785)\n"
          ]
        },
        {
          "output_type": "execute_result",
          "data": {
            "text/plain": [
              "   label  pixel0  pixel1  pixel2  pixel3  pixel4  pixel5  pixel6  pixel7  \\\n",
              "0      1       0       0       0       0       0       0       0       0   \n",
              "1      0       0       0       0       0       0       0       0       0   \n",
              "2      1       0       0       0       0       0       0       0       0   \n",
              "3      4       0       0       0       0       0       0       0       0   \n",
              "4      0       0       0       0       0       0       0       0       0   \n",
              "\n",
              "   pixel8  ...  pixel774  pixel775  pixel776  pixel777  pixel778  pixel779  \\\n",
              "0       0  ...         0         0         0         0         0         0   \n",
              "1       0  ...         0         0         0         0         0         0   \n",
              "2       0  ...         0         0         0         0         0         0   \n",
              "3       0  ...         0         0         0         0         0         0   \n",
              "4       0  ...         0         0         0         0         0         0   \n",
              "\n",
              "   pixel780  pixel781  pixel782  pixel783  \n",
              "0         0         0         0         0  \n",
              "1         0         0         0         0  \n",
              "2         0         0         0         0  \n",
              "3         0         0         0         0  \n",
              "4         0         0         0         0  \n",
              "\n",
              "[5 rows x 785 columns]"
            ],
            "text/html": [
              "\n",
              "  <div id=\"df-15dd2999-3d9b-490c-95a3-0dbd740c06ee\">\n",
              "    <div class=\"colab-df-container\">\n",
              "      <div>\n",
              "<style scoped>\n",
              "    .dataframe tbody tr th:only-of-type {\n",
              "        vertical-align: middle;\n",
              "    }\n",
              "\n",
              "    .dataframe tbody tr th {\n",
              "        vertical-align: top;\n",
              "    }\n",
              "\n",
              "    .dataframe thead th {\n",
              "        text-align: right;\n",
              "    }\n",
              "</style>\n",
              "<table border=\"1\" class=\"dataframe\">\n",
              "  <thead>\n",
              "    <tr style=\"text-align: right;\">\n",
              "      <th></th>\n",
              "      <th>label</th>\n",
              "      <th>pixel0</th>\n",
              "      <th>pixel1</th>\n",
              "      <th>pixel2</th>\n",
              "      <th>pixel3</th>\n",
              "      <th>pixel4</th>\n",
              "      <th>pixel5</th>\n",
              "      <th>pixel6</th>\n",
              "      <th>pixel7</th>\n",
              "      <th>pixel8</th>\n",
              "      <th>...</th>\n",
              "      <th>pixel774</th>\n",
              "      <th>pixel775</th>\n",
              "      <th>pixel776</th>\n",
              "      <th>pixel777</th>\n",
              "      <th>pixel778</th>\n",
              "      <th>pixel779</th>\n",
              "      <th>pixel780</th>\n",
              "      <th>pixel781</th>\n",
              "      <th>pixel782</th>\n",
              "      <th>pixel783</th>\n",
              "    </tr>\n",
              "  </thead>\n",
              "  <tbody>\n",
              "    <tr>\n",
              "      <th>0</th>\n",
              "      <td>1</td>\n",
              "      <td>0</td>\n",
              "      <td>0</td>\n",
              "      <td>0</td>\n",
              "      <td>0</td>\n",
              "      <td>0</td>\n",
              "      <td>0</td>\n",
              "      <td>0</td>\n",
              "      <td>0</td>\n",
              "      <td>0</td>\n",
              "      <td>...</td>\n",
              "      <td>0</td>\n",
              "      <td>0</td>\n",
              "      <td>0</td>\n",
              "      <td>0</td>\n",
              "      <td>0</td>\n",
              "      <td>0</td>\n",
              "      <td>0</td>\n",
              "      <td>0</td>\n",
              "      <td>0</td>\n",
              "      <td>0</td>\n",
              "    </tr>\n",
              "    <tr>\n",
              "      <th>1</th>\n",
              "      <td>0</td>\n",
              "      <td>0</td>\n",
              "      <td>0</td>\n",
              "      <td>0</td>\n",
              "      <td>0</td>\n",
              "      <td>0</td>\n",
              "      <td>0</td>\n",
              "      <td>0</td>\n",
              "      <td>0</td>\n",
              "      <td>0</td>\n",
              "      <td>...</td>\n",
              "      <td>0</td>\n",
              "      <td>0</td>\n",
              "      <td>0</td>\n",
              "      <td>0</td>\n",
              "      <td>0</td>\n",
              "      <td>0</td>\n",
              "      <td>0</td>\n",
              "      <td>0</td>\n",
              "      <td>0</td>\n",
              "      <td>0</td>\n",
              "    </tr>\n",
              "    <tr>\n",
              "      <th>2</th>\n",
              "      <td>1</td>\n",
              "      <td>0</td>\n",
              "      <td>0</td>\n",
              "      <td>0</td>\n",
              "      <td>0</td>\n",
              "      <td>0</td>\n",
              "      <td>0</td>\n",
              "      <td>0</td>\n",
              "      <td>0</td>\n",
              "      <td>0</td>\n",
              "      <td>...</td>\n",
              "      <td>0</td>\n",
              "      <td>0</td>\n",
              "      <td>0</td>\n",
              "      <td>0</td>\n",
              "      <td>0</td>\n",
              "      <td>0</td>\n",
              "      <td>0</td>\n",
              "      <td>0</td>\n",
              "      <td>0</td>\n",
              "      <td>0</td>\n",
              "    </tr>\n",
              "    <tr>\n",
              "      <th>3</th>\n",
              "      <td>4</td>\n",
              "      <td>0</td>\n",
              "      <td>0</td>\n",
              "      <td>0</td>\n",
              "      <td>0</td>\n",
              "      <td>0</td>\n",
              "      <td>0</td>\n",
              "      <td>0</td>\n",
              "      <td>0</td>\n",
              "      <td>0</td>\n",
              "      <td>...</td>\n",
              "      <td>0</td>\n",
              "      <td>0</td>\n",
              "      <td>0</td>\n",
              "      <td>0</td>\n",
              "      <td>0</td>\n",
              "      <td>0</td>\n",
              "      <td>0</td>\n",
              "      <td>0</td>\n",
              "      <td>0</td>\n",
              "      <td>0</td>\n",
              "    </tr>\n",
              "    <tr>\n",
              "      <th>4</th>\n",
              "      <td>0</td>\n",
              "      <td>0</td>\n",
              "      <td>0</td>\n",
              "      <td>0</td>\n",
              "      <td>0</td>\n",
              "      <td>0</td>\n",
              "      <td>0</td>\n",
              "      <td>0</td>\n",
              "      <td>0</td>\n",
              "      <td>0</td>\n",
              "      <td>...</td>\n",
              "      <td>0</td>\n",
              "      <td>0</td>\n",
              "      <td>0</td>\n",
              "      <td>0</td>\n",
              "      <td>0</td>\n",
              "      <td>0</td>\n",
              "      <td>0</td>\n",
              "      <td>0</td>\n",
              "      <td>0</td>\n",
              "      <td>0</td>\n",
              "    </tr>\n",
              "  </tbody>\n",
              "</table>\n",
              "<p>5 rows × 785 columns</p>\n",
              "</div>\n",
              "      <button class=\"colab-df-convert\" onclick=\"convertToInteractive('df-15dd2999-3d9b-490c-95a3-0dbd740c06ee')\"\n",
              "              title=\"Convert this dataframe to an interactive table.\"\n",
              "              style=\"display:none;\">\n",
              "        \n",
              "  <svg xmlns=\"http://www.w3.org/2000/svg\" height=\"24px\"viewBox=\"0 0 24 24\"\n",
              "       width=\"24px\">\n",
              "    <path d=\"M0 0h24v24H0V0z\" fill=\"none\"/>\n",
              "    <path d=\"M18.56 5.44l.94 2.06.94-2.06 2.06-.94-2.06-.94-.94-2.06-.94 2.06-2.06.94zm-11 1L8.5 8.5l.94-2.06 2.06-.94-2.06-.94L8.5 2.5l-.94 2.06-2.06.94zm10 10l.94 2.06.94-2.06 2.06-.94-2.06-.94-.94-2.06-.94 2.06-2.06.94z\"/><path d=\"M17.41 7.96l-1.37-1.37c-.4-.4-.92-.59-1.43-.59-.52 0-1.04.2-1.43.59L10.3 9.45l-7.72 7.72c-.78.78-.78 2.05 0 2.83L4 21.41c.39.39.9.59 1.41.59.51 0 1.02-.2 1.41-.59l7.78-7.78 2.81-2.81c.8-.78.8-2.07 0-2.86zM5.41 20L4 18.59l7.72-7.72 1.47 1.35L5.41 20z\"/>\n",
              "  </svg>\n",
              "      </button>\n",
              "      \n",
              "  <style>\n",
              "    .colab-df-container {\n",
              "      display:flex;\n",
              "      flex-wrap:wrap;\n",
              "      gap: 12px;\n",
              "    }\n",
              "\n",
              "    .colab-df-convert {\n",
              "      background-color: #E8F0FE;\n",
              "      border: none;\n",
              "      border-radius: 50%;\n",
              "      cursor: pointer;\n",
              "      display: none;\n",
              "      fill: #1967D2;\n",
              "      height: 32px;\n",
              "      padding: 0 0 0 0;\n",
              "      width: 32px;\n",
              "    }\n",
              "\n",
              "    .colab-df-convert:hover {\n",
              "      background-color: #E2EBFA;\n",
              "      box-shadow: 0px 1px 2px rgba(60, 64, 67, 0.3), 0px 1px 3px 1px rgba(60, 64, 67, 0.15);\n",
              "      fill: #174EA6;\n",
              "    }\n",
              "\n",
              "    [theme=dark] .colab-df-convert {\n",
              "      background-color: #3B4455;\n",
              "      fill: #D2E3FC;\n",
              "    }\n",
              "\n",
              "    [theme=dark] .colab-df-convert:hover {\n",
              "      background-color: #434B5C;\n",
              "      box-shadow: 0px 1px 3px 1px rgba(0, 0, 0, 0.15);\n",
              "      filter: drop-shadow(0px 1px 2px rgba(0, 0, 0, 0.3));\n",
              "      fill: #FFFFFF;\n",
              "    }\n",
              "  </style>\n",
              "\n",
              "      <script>\n",
              "        const buttonEl =\n",
              "          document.querySelector('#df-15dd2999-3d9b-490c-95a3-0dbd740c06ee button.colab-df-convert');\n",
              "        buttonEl.style.display =\n",
              "          google.colab.kernel.accessAllowed ? 'block' : 'none';\n",
              "\n",
              "        async function convertToInteractive(key) {\n",
              "          const element = document.querySelector('#df-15dd2999-3d9b-490c-95a3-0dbd740c06ee');\n",
              "          const dataTable =\n",
              "            await google.colab.kernel.invokeFunction('convertToInteractive',\n",
              "                                                     [key], {});\n",
              "          if (!dataTable) return;\n",
              "\n",
              "          const docLinkHtml = 'Like what you see? Visit the ' +\n",
              "            '<a target=\"_blank\" href=https://colab.research.google.com/notebooks/data_table.ipynb>data table notebook</a>'\n",
              "            + ' to learn more about interactive tables.';\n",
              "          element.innerHTML = '';\n",
              "          dataTable['output_type'] = 'display_data';\n",
              "          await google.colab.output.renderOutput(dataTable, element);\n",
              "          const docLink = document.createElement('div');\n",
              "          docLink.innerHTML = docLinkHtml;\n",
              "          element.appendChild(docLink);\n",
              "        }\n",
              "      </script>\n",
              "    </div>\n",
              "  </div>\n",
              "  "
            ]
          },
          "metadata": {},
          "execution_count": 5
        }
      ]
    },
    {
      "cell_type": "markdown",
      "source": [
        "############### Every image is streched array of pixel values."
      ],
      "metadata": {
        "id": "TBkaH3H0Nif2"
      }
    },
    {
      "cell_type": "code",
      "source": [
        "images = data.iloc[:,1:].values\n",
        "images = images.astype(float)\n",
        "\n",
        "# convert from [0:255] => [0.0:1.0]\n",
        "\n",
        "images = np.multiply(images , 1.0 / 255.0)\n",
        "\n",
        "print('image({0[0]},{0[1]})'.format(images.shape))"
      ],
      "metadata": {
        "colab": {
          "base_uri": "https://localhost:8080/"
        },
        "id": "C4e-SfpdMCc3",
        "outputId": "49d5b9bd-ac23-4243-f20c-6ce76f0257cc"
      },
      "execution_count": 6,
      "outputs": [
        {
          "output_type": "stream",
          "name": "stdout",
          "text": [
            "image(42000,784)\n"
          ]
        }
      ]
    },
    {
      "cell_type": "code",
      "source": [
        "image_size = images.shape[1]\n",
        "print('image_size => {0}'.format(image_size))\n",
        "\n",
        "# in this class all images are squared\n",
        "\n",
        "image_width = image_height = np.ceil(np.sqrt(image_size)).astype(np.uint8)\n",
        "\n",
        "print('image_width => {0}\\nimage_height => {1}'.format(image_width,image_height))\n",
        "\n",
        "print('If image size would be 784 than the image height and width will be equally divided=> 28*28')"
      ],
      "metadata": {
        "colab": {
          "base_uri": "https://localhost:8080/"
        },
        "id": "dpJqnC13N9cl",
        "outputId": "0a159f19-e56c-483f-fcb4-3628eacedc47"
      },
      "execution_count": 7,
      "outputs": [
        {
          "output_type": "stream",
          "name": "stdout",
          "text": [
            "image_size => 784\n",
            "image_width => 28\n",
            "image_height => 28\n",
            "If image size would be 784 than the image height and width will be equally divided=> 28*28\n"
          ]
        }
      ]
    },
    {
      "cell_type": "code",
      "source": [
        "# display image\n",
        "def display(img):\n",
        "\n",
        "  #(784) = > (28,28)\n",
        "\n",
        "  one_image = img.reshape(image_width , image_height)\n",
        "  plt.axis('off')\n",
        "  plt.imshow(one_image , cmap = cm.spring) \n",
        "\n",
        "  # cmap-> color map ,  cm.binary, cm.gist_gray ,cm.gist_yarg, cm.gray, cm.bone , cm.pink , cm.summer , cm.autumn , cm.winter , cm.cool , cm.Wistia , cm.hot , cm.afmhot , cm.gist_heat, cm.copper\n",
        "\n",
        "\n",
        "# output image\n",
        "display(images[image_to_display])"
      ],
      "metadata": {
        "colab": {
          "base_uri": "https://localhost:8080/",
          "height": 248
        },
        "id": "X0MN5cGJQQbJ",
        "outputId": "92763a6b-129f-48c1-a49e-050dd32cad9a"
      },
      "execution_count": 8,
      "outputs": [
        {
          "output_type": "display_data",
          "data": {
            "text/plain": [
              "<Figure size 432x288 with 1 Axes>"
            ],
            "image/png": "[encoded data removed]"
          },
          "metadata": {
            "needs_background": "light"
          }
        }
      ]
    },
    {
      "cell_type": "markdown",
      "source": [
        "##### Corresponding labels are numbers between 0 and 9, describing which digit a given image is of."
      ],
      "metadata": {
        "id": "WqIArVVWTF2T"
      }
    },
    {
      "cell_type": "code",
      "source": [
        "labels_flat = data.iloc[: , 0].values.ravel()\n",
        "#The numpy.ravel() functions returns contiguous flattened array(1D array with all the input-array elements and with the same type as it). A copy is made only if needed. \n",
        "\"\"\"\n",
        "The contiguous flattened array is a two-dimensional and multi-dimensional array that is stored as a one-dimensional array. We will be using the ravel() method to perform this task. \n",
        "Syntax : numpy.ravel(array, order = 'C') Parameter\n",
        "\"\"\"\n",
        "print('labels_flat({0})'.format(len(labels_flat)))\n",
        "\n",
        "print('labels_flat[{0}] => {1}'.format(image_to_display, labels_flat[image_to_display]))"
      ],
      "metadata": {
        "colab": {
          "base_uri": "https://localhost:8080/"
        },
        "id": "WdLipyfpRuCs",
        "outputId": "98a23f51-af37-434c-917c-47fcb4c13bd4"
      },
      "execution_count": 9,
      "outputs": [
        {
          "output_type": "stream",
          "name": "stdout",
          "text": [
            "labels_flat(42000)\n",
            "labels_flat[10] => 8\n"
          ]
        }
      ]
    },
    {
      "cell_type": "code",
      "source": [
        "labels_count = np.unique(labels_flat).shape[0]\n",
        "print('labels_count => {0}'.format(labels_count))"
      ],
      "metadata": {
        "colab": {
          "base_uri": "https://localhost:8080/"
        },
        "id": "6PfmgppCUTKH",
        "outputId": "e0c67b4b-d4c4-4e98-e048-7a1c0f59b4c8"
      },
      "execution_count": 10,
      "outputs": [
        {
          "output_type": "stream",
          "name": "stdout",
          "text": [
            "labels_count => 10\n"
          ]
        }
      ]
    },
    {
      "cell_type": "markdown",
      "source": [
        "#### For most of the classification problems \"one-hot vectors are used. A one-hot vector is a vector that contains a single element equal to 1 and the rest of the element equal to 0. In this case, the nth digit is represented as a zero vector with 1 in the nth position."
      ],
      "metadata": {
        "id": "7Ct9tVQpYY8L"
      }
    },
    {
      "cell_type": "code",
      "source": [
        "# Convert the class labels from scaler to one-hot vectors\n",
        "# 0=> [1 0 0 0 0 0 0 0 0 0 ]\n",
        "# 1=> [0 1 0 0 0 0 0 0 0 0 ]\n",
        "# ......\n",
        "# 9=> [0 0 0 0 0 0 0 0 0 1 ]\n",
        "\n",
        "def dense_to_one_hot(labels_dense,num_classes):\n",
        "  num_labels = labels_dense.shape[0]\n",
        "  index_offset = np.arange(num_labels)*num_classes\n",
        "  labels_one_hot = np.zeros((num_labels,num_classes))\n",
        "  labels_one_hot.flat[index_offset + labels_dense.ravel()] = 1\n",
        "  return labels_one_hot \n",
        "\n",
        "labels = dense_to_one_hot(labels_flat , labels_count)\n",
        "labels = labels.astype(np.uint8)\n",
        "\n",
        "print('labels{0[0]},{0[1]}'.format(labels.shape))\n",
        "print('labels[{0}] => {1}'.format(image_to_display, labels[image_to_display]))"
      ],
      "metadata": {
        "colab": {
          "base_uri": "https://localhost:8080/"
        },
        "id": "TbYiZ8A-YUS7",
        "outputId": "bc529622-3192-44bb-fa80-772a3ae2dd0b"
      },
      "execution_count": 11,
      "outputs": [
        {
          "output_type": "stream",
          "name": "stdout",
          "text": [
            "labels42000,10\n",
            "labels[10] => [0 0 0 0 0 0 0 0 1 0]\n"
          ]
        }
      ]
    },
    {
      "cell_type": "markdown",
      "source": [
        "#### Lastly we set aside data for validation. It's essential in machine learning to have a separate dataset which doesn't take part in the training and is used to make sure that what we've learned can actually be generalised."
      ],
      "metadata": {
        "id": "qDFA7pl5cyUk"
      }
    },
    {
      "cell_type": "code",
      "source": [
        "# split data into training & validation\n",
        "\n",
        "validation_images = images[: validation_size]\n",
        "validation_lables = labels[: validation_size]\n",
        "\n",
        "\n",
        "train_images = images[validation_size :]\n",
        "train_labels = labels[validation_size :]\n",
        "\n",
        "print('train_images({0[0]}) , {0[1]}'.format(train_images.shape))\n",
        "print('validation_images({0[0]},{0[1]}'.format(validation_images.shape))"
      ],
      "metadata": {
        "colab": {
          "base_uri": "https://localhost:8080/"
        },
        "id": "2rTGbj8waUMH",
        "outputId": "395d083c-4a74-4867-b08c-d0aa9a34c839"
      },
      "execution_count": 12,
      "outputs": [
        {
          "output_type": "stream",
          "name": "stdout",
          "text": [
            "train_images(40000) , 784\n",
            "validation_images(2000,784\n"
          ]
        }
      ]
    },
    {
      "cell_type": "markdown",
      "source": [
        "#### Data is ready. The neural network structure is next\n",
        "\n",
        "\n",
        "## TensorFlow graph\n",
        "\n",
        "TensorFlow does its heavy lifting outside Python. Therefore, instead of running every single operation independently, TensorFlow allows user to build a whole graph of interacting operations and then runs the workflow in a seperate process at once.\n",
        "\n",
        "\n",
        "## Helper functions\n",
        "\n",
        "For this NN model, a lot of wights and bisases are created. Generally, weights should be intialised with a small amount of noise for symmetry breaking, and to prevent 0 gradients.\n",
        "\n",
        "Since we are using ReLU neurons(ones that contians rectifier function f(x) = max(0,x), it is also good practice to intialise them with slightly positive initial bias to avoid \"dead neurones\"."
      ],
      "metadata": {
        "id": "jhHo7Z88ezgs"
      }
    },
    {
      "cell_type": "code",
      "source": [
        "# Wight initialization\n",
        "\n",
        "def weight_vairable(shape):\n",
        "  initial = tf.random.truncated_normal(shape , stddev = 0.1)\n",
        "  return tf.Variable(initial)\n",
        "\n",
        "def bias_variable(shape):\n",
        "  initial = tf.constant(0.1 , shape=shape)\n",
        "  return tf.Variable(initial)"
      ],
      "metadata": {
        "id": "NrpjRXHvdUeh"
      },
      "execution_count": 13,
      "outputs": []
    },
    {
      "cell_type": "markdown",
      "source": [
        "##### For this problem we use '0' padded \"convolution\" so that the output is the same size as the input. Stride/step in this case is equal to 1.\n",
        "\n",
        "\n",
        "##### In general, convolution layer is used to get the feature of the data. In the case of digit recognition-a shape of each digit. It uses learnable kernels/filters each of which corresponds to one particular shape pattern. The number of the filter can differ for other."
      ],
      "metadata": {
        "id": "HEiBlBgjiXAC"
      }
    },
    {
      "cell_type": "code",
      "source": [
        "# Convolution\n",
        "\n",
        "def conv2d(x, W):\n",
        "  return tf.nn.conv2d(x ,W ,strides=[1,1,1,1] , padding = 'SAME')"
      ],
      "metadata": {
        "id": "xgMAVAhghVwh"
      },
      "execution_count": 14,
      "outputs": []
    },
    {
      "cell_type": "markdown",
      "source": [
        "##### pooling is plain max pooling over 2X2 blocks\n",
        "\n",
        "Pooling is used for downsampling of the data. 2X2 max-pooling splits the image into square 2-pixel blocks and only keeps maximum value for each of those blocks"
      ],
      "metadata": {
        "id": "0RP41yCQlIEx"
      }
    },
    {
      "cell_type": "code",
      "source": [
        "# pooling\n",
        "#[[0,3],\n",
        "# [4,2]] =>4\n",
        "\n",
        "# [[ 0 , 1],\n",
        "# [1 , 1]] => 1\n",
        "\n",
        "def max_pool_2X2(x):\n",
        "  return tf.nn.max_pool(x , ksize=[1,2,2,1], strides = [1,2,2,1] , padding = 'SAME')"
      ],
      "metadata": {
        "id": "epTBJCHvlBS_"
      },
      "execution_count": 15,
      "outputs": []
    },
    {
      "cell_type": "markdown",
      "source": [
        "We'll get back to convolutions and pooling in more detail below.\n",
        "\n",
        "The good thing about neural networks that any NN can be used as a layer in a large multilayer NN meaning that output of one can be used as input for another. This sequential approach can create very sophisticated NN with multiple layers. They are also called Deep Neural Networks.\n",
        "\n",
        "\n",
        "In this case, we use two convolution layer with pooling in between them , then denesly connected layer followed by dropout and lastly readout layer."
      ],
      "metadata": {
        "id": "7ilEtVh6l_xV"
      }
    },
    {
      "cell_type": "code",
      "source": [
        "# input & output of NN\n",
        "#images\n",
        "import tensorflow.compat.v1 as tf_1\n",
        "\n",
        "tf_1.disable_v2_behavior()\n",
        "x = tf_1.placeholder(shape=[None, image_size], dtype=tf.float32)\n",
        "y_ = tf_1.placeholder(shape = [None , labels_count], dtype=tf.float32)\n",
        "#x = tf.placeholder('float' , shape = [None , image_size])\n",
        "\n",
        "# labels\n",
        "\n",
        "#y_ = tf.placeholder('float' , shape =[None , labels_count])"
      ],
      "metadata": {
        "id": "5b20zR_Ml8YG",
        "colab": {
          "base_uri": "https://localhost:8080/"
        },
        "outputId": "d3239b88-d48e-4265-d15f-52a75e5d8ba5"
      },
      "execution_count": 16,
      "outputs": [
        {
          "output_type": "stream",
          "name": "stderr",
          "text": [
            "WARNING:tensorflow:From /usr/local/lib/python3.8/dist-packages/tensorflow/python/compat/v2_compat.py:107: disable_resource_variables (from tensorflow.python.ops.variable_scope) is deprecated and will be removed in a future version.\n",
            "Instructions for updating:\n",
            "non-resource variables are not supported in the long term\n"
          ]
        }
      ]
    },
    {
      "cell_type": "code",
      "source": [],
      "metadata": {
        "id": "at-bjx0WpSQe"
      },
      "execution_count": 16,
      "outputs": []
    },
    {
      "cell_type": "markdown",
      "source": [
        "The First layer is a convolution, followed by max pooling. The convolution computes 32 features for each 5X5 patch. Its weight tensor has a shape[5,5,1,32]. The first two dimensions are the patch size, the next is the number of input channels(1 means that image are grayscale), and the final dimension-to the number of colour channels.\n",
        "\n",
        "After the convolution, pooling reduces the size of the output from 28X28 to 14X14"
      ],
      "metadata": {
        "id": "9Eg0b_D2zlY8"
      }
    },
    {
      "cell_type": "code",
      "source": [
        "W_conv1 = weight_vairable([5,5,1,32])\n",
        "b_conv1 = bias_variable([32])\n",
        "\n",
        "# (40000,784) => (40000,28,28,1)\n",
        "\n",
        "image = tf.reshape(x, [-1, image_width, image_height, 1])\n",
        "# print (image.get_shap()) # => (40000,28,28,1)\n",
        "\n",
        "h_conv1= tf.nn.relu(conv2d(image, W_conv1) + b_conv1)\n",
        "# print(h_conv1.get_shape()) => (40000,28,28,1)\n",
        "h_pool1 = max_pool_2X2(h_conv1)\n",
        "# print(h_pool1.get_shape()) =>(40000,14,14,32)\n",
        "#prepare for visualization\n",
        "# display 32 feature in 4 by 8 grid\n",
        "\n",
        "layer1 = tf.reshape(h_conv1, (-1, image_height, image_width, 4, 8))\n",
        "\n",
        "# reorder so the channels are in the 1st dimenssion, x and y follow\n",
        "\n",
        "layer1 = tf.transpose(layer1 , (0,3,1,4,2))\n",
        "layer1 = tf.reshape(layer1, (-1, image_height*4 , image_width*8))\n"
      ],
      "metadata": {
        "id": "jEgr974x0ORH"
      },
      "execution_count": 17,
      "outputs": []
    },
    {
      "cell_type": "markdown",
      "source": [
        "The second layer has 64 features for each 5X5 patch. Its weight tensor has a shape of [5,5,32,64]. The first two dimenssion are the patch size, the next is the number of input channels(32 channels corresponds to 32 features that we got from previous convolutional layer), and the last is the number of output channels. There is also a bias vector with a component for each output channel.\n",
        "\n",
        "\n",
        "beacuse the image is down-sampled by pooling 14X14 size second convolutional layer picks up more general characteristics of the images. Filters cover more spaces of the picture. Therefore, it is adjusted for more generic features while the 1st layer finds smaller details."
      ],
      "metadata": {
        "id": "6zqyeNMQ3GuN"
      }
    },
    {
      "cell_type": "code",
      "source": [
        "W_conv2 = weight_vairable([5, 5, 32, 64])\n",
        "b_conv2 = bias_variable([64])\n",
        "\n",
        "h_conv2 = tf.nn.relu(conv2d(h_pool1, W_conv2) + b_conv2)\n",
        "#print (h_conv2.get_shape()) # => (40000, 14,14, 64)\n",
        "h_pool2 = max_pool_2X2(h_conv2)\n",
        "#print (h_pool2.get_shape()) # => (40000, 7, 7, 64)\n",
        "\n",
        "# Prepare for visualization\n",
        "# display 64 fetures in 4 by 16 grid\n",
        "layer2 = tf.reshape(h_conv2, (-1, 14, 14, 4 ,16))  \n",
        "\n",
        "# reorder so the channels are in the first dimension, x and y follow.\n",
        "layer2 = tf.transpose(layer2, (0, 3, 1, 4,2))\n",
        "\n",
        "layer2 = tf.reshape(layer2, (-1, 14*4, 14*16)) "
      ],
      "metadata": {
        "id": "29UlJ_LA1z-T"
      },
      "execution_count": 18,
      "outputs": []
    },
    {
      "cell_type": "markdown",
      "source": [
        "Now that the image size is reduced to 7X7, we add a fully-connetced layer with 1024 neurons to allow processing on the entire image(each of the neurons of the fully connected layer is connected to all the activations/output of the previous layer)"
      ],
      "metadata": {
        "id": "UJEv3QMK49R6"
      }
    },
    {
      "cell_type": "code",
      "source": [
        "# densely connected layer\n",
        "W_fc1 = weight_vairable([7*7*64, 1024])\n",
        "b_fc1 = bias_variable([1024])\n",
        "\n",
        "#(40000, 7 ,7, 64) => (40000,3136)\n",
        "\n",
        "h_pool2_flat = tf.reshape(h_pool2 , [-1,7*7*64])\n",
        "\n",
        "h_fc1 = tf.nn.relu(tf.matmul(h_pool2_flat ,W_fc1) + b_fc1)\n",
        "\n",
        "#print (h_fc1.get_shape()) # => (40000,1024)"
      ],
      "metadata": {
        "id": "z21WxaXM4YKa"
      },
      "execution_count": 19,
      "outputs": []
    },
    {
      "cell_type": "code",
      "source": [],
      "metadata": {
        "id": "CT_mPqiR6Cld"
      },
      "execution_count": 19,
      "outputs": []
    },
    {
      "cell_type": "markdown",
      "source": [
        "To prevent overfitting, we apply \"Dropout\" before the readout layer.\n",
        "\n",
        "Dropout removes some nodes from the network at each training stage.  Each of the nodes is eigther kept in the network with probability keep_prob of dropped with probability 1-keep_prob. After the training stage is over the nodes are returned to the NN with their original weights"
      ],
      "metadata": {
        "id": "B0fqtck_6E8u"
      }
    },
    {
      "cell_type": "code",
      "source": [
        "# dropout\n",
        "\n",
        "keep_prob = tf_1.placeholder(dtype = tf.float32)\n",
        "\n",
        "h_fc1_drop = tf.nn.dropout(h_fc1, keep_prob)\n",
        "\n",
        "\"\"\"\n",
        "Finally, we add a softmax layer, the same one if we use just a simple softmax regression\n",
        "\n",
        "\"\"\""
      ],
      "metadata": {
        "colab": {
          "base_uri": "https://localhost:8080/",
          "height": 35
        },
        "id": "IonYA_sA6pVj",
        "outputId": "e367a170-daa9-4b73-fd24-ec23f39cdc2a"
      },
      "execution_count": 20,
      "outputs": [
        {
          "output_type": "execute_result",
          "data": {
            "text/plain": [
              "'\\nFinally, we add a softmax layer, the same one if we use just a simple softmax regression\\n\\n'"
            ],
            "application/vnd.google.colaboratory.intrinsic+json": {
              "type": "string"
            }
          },
          "metadata": {},
          "execution_count": 20
        }
      ]
    },
    {
      "cell_type": "code",
      "source": [
        "# readout layer for deep net\n",
        "\n",
        "W_fc2 = weight_vairable([1024, labels_count])\n",
        "b_fc2 = bias_variable([labels_count])\n",
        "\n",
        "y = tf.nn.softmax(tf.matmul(h_fc1_drop, W_fc2) + b_fc2)\n",
        "\n",
        "#print (y.get_shape()) # => (40000, 10)"
      ],
      "metadata": {
        "id": "GgUew2hT605Y"
      },
      "execution_count": 21,
      "outputs": []
    },
    {
      "cell_type": "markdown",
      "source": [
        "To Evaluate network performance we use cross-entropy and to minimise it ADAM Optimiser is used.\n",
        "\n",
        "\n",
        "ADAM optimiser is a gradient based optimization algorithm, based on adaptive estimate, it's more sophisticated then steepest gradient descent and is well suited for problems with large data or many parameters."
      ],
      "metadata": {
        "id": "KOvpXj233T1w"
      }
    },
    {
      "cell_type": "code",
      "source": [
        "# Cost- functions or Loss functions\n",
        "import math\n",
        "cross_entropy = -tf.reduce_sum(y_*tf.math.log(y))\n",
        "\n",
        "# optimization function\n",
        "\n",
        "train_step = tf.compat.v1.train.AdamOptimizer(learning_rate).minimize(cross_entropy)\n",
        "\n",
        "\n",
        "# Evaluation\n",
        "correct_prediction = tf.equal(tf.argmax(y,1), tf.argmax(y_,1))\n",
        "\n",
        "accuracy = tf.reduce_mean(tf.cast(correct_prediction, 'float'))"
      ],
      "metadata": {
        "id": "thXnjPa_7gS0"
      },
      "execution_count": 32,
      "outputs": []
    },
    {
      "cell_type": "markdown",
      "source": [
        "TO predict values from test data, highest probability is picked from \"one-hot vector\" indicating that chances of an image being one of the digits are highest.\n",
        "\n",
        "\n",
        "\n",
        "### Prediction function\n",
        "\n"
      ],
      "metadata": {
        "id": "RBCLOgA-6wbN"
      }
    },
    {
      "cell_type": "code",
      "source": [
        "# [0.1, 0.9, 0.2, 0.1, 0.3, 0.5, 0.1, 0.2, 0.3]=> 1\n",
        "\n",
        "predict = tf.argmax(y,1)\n",
        "predict"
      ],
      "metadata": {
        "colab": {
          "base_uri": "https://localhost:8080/"
        },
        "id": "Djv_TMmo4Ttn",
        "outputId": "136ef598-88e7-40c6-91c0-0089fdaa4e5f"
      },
      "execution_count": 34,
      "outputs": [
        {
          "output_type": "execute_result",
          "data": {
            "text/plain": [
              "<tf.Tensor 'ArgMax_5:0' shape=(?,) dtype=int64>"
            ]
          },
          "metadata": {},
          "execution_count": 34
        }
      ]
    },
    {
      "cell_type": "markdown",
      "source": [
        "Finally neural nerwork structure is defined and TensorFlow graph is ready for training\n",
        "\n",
        "\n",
        "\n",
        "### Train , Validate and Predict\n",
        "\n",
        "##### Helper function\n",
        "\n",
        "Ideally, we should use all data for every step of the training, but that's exxpensive. So, instead, we use small \"batches\" of random data.\n",
        "\n",
        "\n",
        "##### This method is called \"Stochastic training\". It is cheaper, faster and gives ,much of the same result."
      ],
      "metadata": {
        "id": "Ke-nMXoF7b46"
      }
    },
    {
      "cell_type": "code",
      "source": [
        "epochs_completed = 0\n",
        "index_in_epoch = 0\n",
        "num_examples = train_images.shape[0]\n",
        "\n",
        "# serve data by batches\n",
        "\n",
        "def next_batch(batch_size):\n",
        "  global train_images\n",
        "  global train_labels\n",
        "  global index_in_epoch\n",
        "  global epochs_completed\n",
        "\n",
        "  start = index_in_epoch\n",
        "  index_in_epoch += batch_size\n",
        "\n",
        "  # when all training data have been already used, it is reorder randomly\n",
        "\n",
        "\n",
        "  if index_in_epoch > num_examples:\n",
        "\n",
        "    # finished epoch\n",
        "\n",
        "    epochs_completed += 1\n",
        "\n",
        "    # shuffle the data\n",
        "    perm = np.arange(num_examples)\n",
        "    np.random.shuffle(perm)\n",
        "    train_images = train_images[perm]\n",
        "    train_labels = train_labels[perm]\n",
        "\n",
        "    # start next epoch\n",
        "\n",
        "    start = 0\n",
        "    index_in_epoch = batch_size\n",
        "    assert batch_size <= num_examples\n",
        "  end  = index_in_epoch\n",
        "\n",
        "  return train_images[start:end], train_labels[start:end]"
      ],
      "metadata": {
        "id": "GTb7G4-E7UNI"
      },
      "execution_count": 48,
      "outputs": []
    },
    {
      "cell_type": "code",
      "source": [
        "'''\n",
        "Now when all operations for every varaible are defined in TensorFlow graph all computation will be performed outside Python environment.\n",
        "\n",
        "'''\n",
        "\n",
        "init = tf.compat.v1.global_variables_initializer()\n",
        "sess = tf.compat.v1.InteractiveSession()\n",
        "\n",
        "sess.run(init)"
      ],
      "metadata": {
        "id": "gtLX7K7N_DzF"
      },
      "execution_count": 49,
      "outputs": []
    },
    {
      "cell_type": "markdown",
      "source": [
        "Each step of the loop, we get a \"batch\" of data points from the training set and feed it to the graph to replace the placeholder. In this case, it's x,y and dropout.\n",
        "\n",
        "\n",
        "Also, once in a while, we check training accuracy on an upcomming \"batch\"\n",
        "\n",
        "On the local environment, we recommend saving training progress, so it can be recovered for further training, debuggig or evaluation."
      ],
      "metadata": {
        "id": "6e-SrRCxA5b9"
      }
    },
    {
      "cell_type": "code",
      "source": [
        "# visulisation variables\n",
        "\n",
        "train_accuracies = []\n",
        "validation_accuracies = []\n",
        "x_range = []\n",
        "\n",
        "display_step = 1\n",
        "for i in range(training_iteration):\n",
        "\n",
        "    #get new batch\n",
        "    batch_xs, batch_ys = next_batch(batch_size)        \n",
        "\n",
        "    # check progress on every 1st,2nd,...,10th,20th,...,100th... step\n",
        "    if i%display_step == 0 or (i+1) == training_iteration:\n",
        "        \n",
        "        train_accuracy = accuracy.eval(feed_dict={x:batch_xs, \n",
        "                                                  y_: batch_ys, \n",
        "                                                  keep_prob: 1.0})       \n",
        "        if(validation_size):\n",
        "            validation_accuracy = accuracy.eval(feed_dict={ x: validation_images[0:batch_size], \n",
        "                                                            y_: validation_lables[0:batch_size], \n",
        "                                                            keep_prob: 1.0})                                  \n",
        "            print('training_accuracy / validation_accuracy => %.2f / %.2f for step %d'%(train_accuracy, validation_accuracy, i))\n",
        "            \n",
        "            validation_accuracies.append(validation_accuracy)\n",
        "            \n",
        "        else:\n",
        "             print('training_accuracy => %.4f for step %d'%(train_accuracy, i))\n",
        "        train_accuracies.append(train_accuracy)\n",
        "        x_range.append(i)\n",
        "        \n",
        "        # increase display_step\n",
        "        if i%(display_step*10) == 0 and i:\n",
        "            display_step *= 10\n",
        "    # train on batch\n",
        "    sess.run(train_step, feed_dict={x: batch_xs, y_: batch_ys, keep_prob: dropout})"
      ],
      "metadata": {
        "colab": {
          "base_uri": "https://localhost:8080/"
        },
        "id": "uGVv8BH6AKZi",
        "outputId": "2102a480-0a8e-4a43-b535-8407045dafae"
      },
      "execution_count": 50,
      "outputs": [
        {
          "output_type": "stream",
          "name": "stdout",
          "text": [
            "training_accuracy / validation_accuracy => 0.14 / 0.10 for step 0\n",
            "training_accuracy / validation_accuracy => 0.12 / 0.10 for step 1\n",
            "training_accuracy / validation_accuracy => 0.18 / 0.10 for step 2\n",
            "training_accuracy / validation_accuracy => 0.06 / 0.10 for step 3\n",
            "training_accuracy / validation_accuracy => 0.06 / 0.10 for step 4\n",
            "training_accuracy / validation_accuracy => 0.10 / 0.10 for step 5\n",
            "training_accuracy / validation_accuracy => 0.06 / 0.10 for step 6\n",
            "training_accuracy / validation_accuracy => 0.14 / 0.10 for step 7\n",
            "training_accuracy / validation_accuracy => 0.10 / 0.10 for step 8\n",
            "training_accuracy / validation_accuracy => 0.10 / 0.10 for step 9\n",
            "training_accuracy / validation_accuracy => 0.16 / 0.10 for step 10\n",
            "training_accuracy / validation_accuracy => 0.10 / 0.10 for step 20\n",
            "training_accuracy / validation_accuracy => 0.04 / 0.10 for step 30\n",
            "training_accuracy / validation_accuracy => 0.14 / 0.10 for step 40\n",
            "training_accuracy / validation_accuracy => 0.10 / 0.10 for step 50\n",
            "training_accuracy / validation_accuracy => 0.08 / 0.10 for step 60\n",
            "training_accuracy / validation_accuracy => 0.08 / 0.10 for step 70\n",
            "training_accuracy / validation_accuracy => 0.10 / 0.10 for step 80\n",
            "training_accuracy / validation_accuracy => 0.08 / 0.10 for step 90\n",
            "training_accuracy / validation_accuracy => 0.12 / 0.10 for step 100\n",
            "training_accuracy / validation_accuracy => 0.04 / 0.10 for step 200\n",
            "training_accuracy / validation_accuracy => 0.12 / 0.10 for step 300\n",
            "training_accuracy / validation_accuracy => 0.20 / 0.10 for step 400\n",
            "training_accuracy / validation_accuracy => 0.04 / 0.10 for step 500\n",
            "training_accuracy / validation_accuracy => 0.10 / 0.10 for step 600\n",
            "training_accuracy / validation_accuracy => 0.08 / 0.10 for step 700\n",
            "training_accuracy / validation_accuracy => 0.06 / 0.10 for step 800\n",
            "training_accuracy / validation_accuracy => 0.04 / 0.10 for step 900\n",
            "training_accuracy / validation_accuracy => 0.14 / 0.10 for step 1000\n",
            "training_accuracy / validation_accuracy => 0.08 / 0.10 for step 2000\n",
            "training_accuracy / validation_accuracy => 0.10 / 0.10 for step 2499\n"
          ]
        }
      ]
    },
    {
      "cell_type": "code",
      "source": [
        "# check final accuracy on validation set  \n",
        "if(validation_size):\n",
        "    validation_accuracy = accuracy.eval(feed_dict={x: validation_images, \n",
        "                                                   y_: validation_lables, \n",
        "                                                   keep_prob: 1.0})\n",
        "    print('validation_accuracy => %.4f'%validation_accuracy)\n",
        "    plt.plot(x_range, train_accuracies,'-b', label='Training')\n",
        "    plt.plot(x_range, validation_accuracies,'-g', label='Validation')\n",
        "    plt.legend(loc='lower right', frameon=False)\n",
        "    plt.ylim(ymax = 1.1, ymin = 0.7)\n",
        "    plt.ylabel('accuracy')\n",
        "    plt.xlabel('step')\n",
        "    plt.show()"
      ],
      "metadata": {
        "colab": {
          "base_uri": "https://localhost:8080/",
          "height": 300
        },
        "id": "VX-n8_1eC347",
        "outputId": "9072b9b2-7a9e-443b-9c4a-7c48b30200be"
      },
      "execution_count": 52,
      "outputs": [
        {
          "output_type": "stream",
          "name": "stdout",
          "text": [
            "validation_accuracy => 0.0980\n"
          ]
        },
        {
          "output_type": "display_data",
          "data": {
            "text/plain": [
              "<Figure size 432x288 with 1 Axes>"
            ],
            "image/png": "[encoded data removed]"
          },
          "metadata": {
            "needs_background": "light"
          }
        }
      ]
    },
    {
      "cell_type": "code",
      "source": [
        "# read test data from CSV file \n",
        "test_images = pd.read_csv('/content/drive/MyDrive/DS/TensorFlow Deep NN/test.csv').values\n",
        "test_images = test_images.astype(np.float)\n",
        "\n",
        "# convert from [0:255] => [0.0:1.0]\n",
        "test_images = np.multiply(test_images, 1.0 / 255.0)\n",
        "\n",
        "print('test_images({0[0]},{0[1]})'.format(test_images.shape))\n",
        "\n",
        "\n",
        "# predict test set\n",
        "#predicted_lables = predict.eval(feed_dict={x: test_images, keep_prob: 1.0})\n",
        "\n",
        "# using batches is more resource efficient\n",
        "predicted_lables = np.zeros(test_images.shape[0])\n",
        "for i in range(0,test_images.shape[0]//batch_size):\n",
        "    predicted_lables[i*batch_size : (i+1)*batch_size] = predict.eval(feed_dict={x: test_images[i*batch_size : (i+1)*batch_size], \n",
        "                                                                                keep_prob: 1.0})\n",
        "\n",
        "\n",
        "print('predicted_lables({0})'.format(len(predicted_lables)))\n",
        "\n",
        "# output test image and prediction\n",
        "display(test_images[image_to_display])\n",
        "print ('predicted_lables[{0}] => {1}'.format(image_to_display,predicted_lables[image_to_display]))\n",
        "\n",
        "# save results\n",
        "np.savetxt('submission_softmax.csv', \n",
        "           np.c_[range(1,len(test_images)+1),predicted_lables], \n",
        "           delimiter=',', \n",
        "           header = 'ImageId,Label', \n",
        "           comments = '', \n",
        "           fmt='%d')"
      ],
      "metadata": {
        "colab": {
          "base_uri": "https://localhost:8080/",
          "height": 372
        },
        "id": "G5qFCIQmEh6a",
        "outputId": "89d56004-899b-46d6-fa28-aeaf75e3e370"
      },
      "execution_count": 53,
      "outputs": [
        {
          "output_type": "stream",
          "name": "stderr",
          "text": [
            "<ipython-input-53-931264457e1d>:3: DeprecationWarning: `np.float` is a deprecated alias for the builtin `float`. To silence this warning, use `float` by itself. Doing this will not modify any behavior and is safe. If you specifically wanted the numpy scalar type, use `np.float64` here.\n",
            "Deprecated in NumPy 1.20; for more details and guidance: https://numpy.org/devdocs/release/1.20.0-notes.html#deprecations\n",
            "  test_images = test_images.astype(np.float)\n"
          ]
        },
        {
          "output_type": "stream",
          "name": "stdout",
          "text": [
            "test_images(28000,784)\n",
            "predicted_lables(28000)\n",
            "predicted_lables[10] => 0.0\n"
          ]
        },
        {
          "output_type": "display_data",
          "data": {
            "text/plain": [
              "<Figure size 432x288 with 1 Axes>"
            ],
            "image/png": "[encoded data removed]"
          },
          "metadata": {
            "needs_background": "light"
          }
        }
      ]
    },
    {
      "cell_type": "markdown",
      "source": [
        "#### Appendix\n",
        "As it was mentioned before, it is good to output some variables for a better understanding of the process.\n",
        "\n",
        "Here we pull an output of the first convolution layer from TensorFlow graph. 32 features are transformed into an image grid, and it's quite interesting to see how filters picked by NN outline characteristics of different digits."
      ],
      "metadata": {
        "id": "V0rZmSZrFg5x"
      }
    },
    {
      "cell_type": "code",
      "source": [
        "layer1_grid = layer1.eval(feed_dict={x: test_images[image_to_display:image_to_display+1], keep_prob: 1.0})\n",
        "plt.axis('off')\n",
        "plt.imshow(layer1_grid[0], cmap=cm.seismic )"
      ],
      "metadata": {
        "colab": {
          "base_uri": "https://localhost:8080/",
          "height": 215
        },
        "id": "g9YOw8rsFPJO",
        "outputId": "edfa5073-6b4b-45dc-e307-890dd29970a4"
      },
      "execution_count": 54,
      "outputs": [
        {
          "output_type": "execute_result",
          "data": {
            "text/plain": [
              "<matplotlib.image.AxesImage at 0x7f95002706a0>"
            ]
          },
          "metadata": {},
          "execution_count": 54
        },
        {
          "output_type": "display_data",
          "data": {
            "text/plain": [
              "<Figure size 432x288 with 1 Axes>"
            ],
            "image/png": "[encoded data removed]"
          },
          "metadata": {
            "needs_background": "light"
          }
        }
      ]
    },
    {
      "cell_type": "code",
      "source": [],
      "metadata": {
        "id": "ZapWG0dZFuEZ"
      },
      "execution_count": null,
      "outputs": []
    }
  ]
}